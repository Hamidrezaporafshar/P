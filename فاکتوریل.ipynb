{
 "cells": [
  {
   "cell_type": "code",
   "execution_count": null,
   "id": "7d9867c4-d432-42a9-9b19-c045005cf554",
   "metadata": {},
   "outputs": [],
   "source": [
    "def factorial(number):\n",
    "    if number < 0:\n",
    "        return\"فاکتوریل برای اعداد منفی تعریف نشده\"\n",
    "    elif number == 0:\n",
    "        return 1\n",
    "    else:\n",
    "        result = 1\n",
    "        for s in range(1, number + 1):\n",
    "            result*= s\n",
    "        return result\n",
    "num = 10\n",
    "result = factorial(num)\n",
    "print(s\"فاکتوریل {num}برابراست با {result}\")\n",
    "    "
   ]
  }
 ],
 "metadata": {
  "kernelspec": {
   "display_name": "Python 3 (ipykernel)",
   "language": "python",
   "name": "python3"
  },
  "language_info": {
   "codemirror_mode": {
    "name": "ipython",
    "version": 3
   },
   "file_extension": ".py",
   "mimetype": "text/x-python",
   "name": "python",
   "nbconvert_exporter": "python",
   "pygments_lexer": "ipython3",
   "version": "3.12.0"
  }
 },
 "nbformat": 4,
 "nbformat_minor": 5
}
