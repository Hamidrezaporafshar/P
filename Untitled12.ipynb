{
 "cells": [
  {
   "cell_type": "code",
   "execution_count": null,
   "id": "d518c2db-f6c4-40d4-a5df-8d90fa9a8416",
   "metadata": {},
   "outputs": [],
   "source": [
    "def contdown(number):\n",
    "    while number > 0:\n",
    "        print(number)\n",
    "        number -= 1\n",
    "    print(\"stop\")\n",
    "\n",
    "inport_number = 6\n",
    "contdown(input_number)"
   ]
  }
 ],
 "metadata": {
  "kernelspec": {
   "display_name": "Python 3 (ipykernel)",
   "language": "python",
   "name": "python3"
  },
  "language_info": {
   "codemirror_mode": {
    "name": "ipython",
    "version": 3
   },
   "file_extension": ".py",
   "mimetype": "text/x-python",
   "name": "python",
   "nbconvert_exporter": "python",
   "pygments_lexer": "ipython3",
   "version": "3.12.0"
  }
 },
 "nbformat": 4,
 "nbformat_minor": 5
}
