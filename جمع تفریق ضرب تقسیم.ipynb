{
 "cells": [
  {
   "cell_type": "code",
   "execution_count": 4,
   "id": "8ca10aa2-bc4d-4d4f-aa1a-03d34bfac0f4",
   "metadata": {},
   "outputs": [
    {
     "data": {
      "text/plain": [
       "1"
      ]
     },
     "execution_count": 4,
     "metadata": {},
     "output_type": "execute_result"
    }
   ],
   "source": [
    "3-2"
   ]
  },
  {
   "cell_type": "code",
   "execution_count": 5,
   "id": "0e802ea4-17ad-4016-8689-36c9b99fa710",
   "metadata": {},
   "outputs": [
    {
     "data": {
      "text/plain": [
       "-35"
      ]
     },
     "execution_count": 5,
     "metadata": {},
     "output_type": "execute_result"
    }
   ],
   "source": [
    "2-37"
   ]
  },
  {
   "cell_type": "code",
   "execution_count": 6,
   "id": "76116f3b-b9fd-4e01-9c2d-1c1614a5e4c3",
   "metadata": {},
   "outputs": [
    {
     "data": {
      "text/plain": [
       "-71"
      ]
     },
     "execution_count": 6,
     "metadata": {},
     "output_type": "execute_result"
    }
   ],
   "source": [
    "6-77"
   ]
  },
  {
   "cell_type": "code",
   "execution_count": 8,
   "id": "123f2359-4494-4c00-be93-60f01f1fe9b2",
   "metadata": {},
   "outputs": [
    {
     "data": {
      "text/plain": [
       "40"
      ]
     },
     "execution_count": 8,
     "metadata": {},
     "output_type": "execute_result"
    }
   ],
   "source": [
    "34+6"
   ]
  },
  {
   "cell_type": "code",
   "execution_count": 9,
   "id": "63be4a3c-6b9d-4785-a143-4ce46b0a23b6",
   "metadata": {},
   "outputs": [
    {
     "data": {
      "text/plain": [
       "24"
      ]
     },
     "execution_count": 9,
     "metadata": {},
     "output_type": "execute_result"
    }
   ],
   "source": [
    "15+9"
   ]
  },
  {
   "cell_type": "code",
   "execution_count": 10,
   "id": "e88ad1de-42be-468b-b827-fd77b2dc02bc",
   "metadata": {},
   "outputs": [
    {
     "data": {
      "text/plain": [
       "255"
      ]
     },
     "execution_count": 10,
     "metadata": {},
     "output_type": "execute_result"
    }
   ],
   "source": [
    "227+28"
   ]
  },
  {
   "cell_type": "code",
   "execution_count": 11,
   "id": "629b858b-7ca7-4614-8d0d-767cb89ad72a",
   "metadata": {},
   "outputs": [
    {
     "data": {
      "text/plain": [
       "42"
      ]
     },
     "execution_count": 11,
     "metadata": {},
     "output_type": "execute_result"
    }
   ],
   "source": [
    "6*7"
   ]
  },
  {
   "cell_type": "code",
   "execution_count": 12,
   "id": "ba070799-4d24-48cb-ae4b-4f94a910fb99",
   "metadata": {},
   "outputs": [
    {
     "data": {
      "text/plain": [
       "231"
      ]
     },
     "execution_count": 12,
     "metadata": {},
     "output_type": "execute_result"
    }
   ],
   "source": [
    "33*7"
   ]
  },
  {
   "cell_type": "code",
   "execution_count": 13,
   "id": "11f8ca9d-78f2-4338-a13a-d731218c4b10",
   "metadata": {},
   "outputs": [
    {
     "data": {
      "text/plain": [
       "66"
      ]
     },
     "execution_count": 13,
     "metadata": {},
     "output_type": "execute_result"
    }
   ],
   "source": [
    "11*6"
   ]
  },
  {
   "cell_type": "code",
   "execution_count": 14,
   "id": "d2378c19-03d8-489a-804b-3c4a763cb9c2",
   "metadata": {},
   "outputs": [
    {
     "data": {
      "text/plain": [
       "4"
      ]
     },
     "execution_count": 14,
     "metadata": {},
     "output_type": "execute_result"
    }
   ],
   "source": [
    "4%7"
   ]
  },
  {
   "cell_type": "code",
   "execution_count": 15,
   "id": "0f2353ee-1135-41a8-a8ef-43d40278e8aa",
   "metadata": {},
   "outputs": [
    {
     "data": {
      "text/plain": [
       "0.6666666666666666"
      ]
     },
     "execution_count": 15,
     "metadata": {},
     "output_type": "execute_result"
    }
   ],
   "source": [
    "6/9"
   ]
  },
  {
   "cell_type": "code",
   "execution_count": 16,
   "id": "b05595ad-1ee8-4051-8a29-2ec910d55a65",
   "metadata": {},
   "outputs": [
    {
     "data": {
      "text/plain": [
       "0"
      ]
     },
     "execution_count": 16,
     "metadata": {},
     "output_type": "execute_result"
    }
   ],
   "source": [
    "2//9"
   ]
  },
  {
   "cell_type": "code",
   "execution_count": 17,
   "id": "0fd76d98-fe05-46e8-91ef-d101b99d8d75",
   "metadata": {},
   "outputs": [
    {
     "data": {
      "text/plain": [
       "4"
      ]
     },
     "execution_count": 17,
     "metadata": {},
     "output_type": "execute_result"
    }
   ],
   "source": [
    "2**2"
   ]
  },
  {
   "cell_type": "code",
   "execution_count": 18,
   "id": "9418c268-6975-44b1-b51e-a72d3d270ab4",
   "metadata": {},
   "outputs": [
    {
     "data": {
      "text/plain": [
       "6.25"
      ]
     },
     "execution_count": 18,
     "metadata": {},
     "output_type": "execute_result"
    }
   ],
   "source": [
    "2.5**2"
   ]
  },
  {
   "cell_type": "code",
   "execution_count": 19,
   "id": "c2738149-6a1f-4be8-87de-e06546f395e5",
   "metadata": {},
   "outputs": [
    {
     "data": {
      "text/plain": [
       "2207984167552"
      ]
     },
     "execution_count": 19,
     "metadata": {},
     "output_type": "execute_result"
    }
   ],
   "source": [
    "58**7"
   ]
  },
  {
   "cell_type": "code",
   "execution_count": null,
   "id": "c9ea16e9-1ee8-4938-86de-a1fffd5e29e6",
   "metadata": {},
   "outputs": [],
   "source": []
  }
 ],
 "metadata": {
  "kernelspec": {
   "display_name": "Python 3 (ipykernel)",
   "language": "python",
   "name": "python3"
  },
  "language_info": {
   "codemirror_mode": {
    "name": "ipython",
    "version": 3
   },
   "file_extension": ".py",
   "mimetype": "text/x-python",
   "name": "python",
   "nbconvert_exporter": "python",
   "pygments_lexer": "ipython3",
   "version": "3.12.0"
  }
 },
 "nbformat": 4,
 "nbformat_minor": 5
}
