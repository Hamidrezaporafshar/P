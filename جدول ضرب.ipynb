{
 "cells": [
  {
   "cell_type": "code",
   "execution_count": 6,
   "id": "6e11218c-31fd-4901-93b9-78c3ee57f96a",
   "metadata": {},
   "outputs": [
    {
     "data": {
      "text/plain": [
       "5"
      ]
     },
     "execution_count": 6,
     "metadata": {},
     "output_type": "execute_result"
    }
   ],
   "source": [
    "def bezafeh (a,b):\n",
    "    c=(a+b)\n",
    "    return c\n",
    "bezafeh(2,3)"
   ]
  },
  {
   "cell_type": "code",
   "execution_count": 8,
   "id": "3e4b7f05-f40a-4cbd-8adf-d6c08eb7a073",
   "metadata": {},
   "outputs": [
    {
     "data": {
      "text/plain": [
       "3"
      ]
     },
     "execution_count": 8,
     "metadata": {},
     "output_type": "execute_result"
    }
   ],
   "source": [
    "def tafrigh (a,b):\n",
    "    c=(a-b)\n",
    "    return c\n",
    "tafrigh(7,4)"
   ]
  },
  {
   "cell_type": "code",
   "execution_count": 10,
   "id": "85c2040f-6854-4155-b463-52bfee4d8fa3",
   "metadata": {},
   "outputs": [
    {
     "data": {
      "text/plain": [
       "9"
      ]
     },
     "execution_count": 10,
     "metadata": {},
     "output_type": "execute_result"
    }
   ],
   "source": [
    "def zarb (a,b):\n",
    "    c=(a*b)\n",
    "    return c\n",
    "zarb(3,3)"
   ]
  },
  {
   "cell_type": "code",
   "execution_count": 12,
   "id": "b648c00a-e575-4677-bcde-5dba6484fef0",
   "metadata": {},
   "outputs": [
    {
     "data": {
      "text/plain": [
       "0.25"
      ]
     },
     "execution_count": 12,
     "metadata": {},
     "output_type": "execute_result"
    }
   ],
   "source": [
    "def taghsim (a,b):\n",
    "    c=(a/b)\n",
    "    return c\n",
    "taghsim(2,8)"
   ]
  },
  {
   "cell_type": "code",
   "execution_count": 16,
   "id": "da20d295-03d7-4cf5-bb1b-caf674d7f2d9",
   "metadata": {},
   "outputs": [
    {
     "data": {
      "text/plain": [
       "0"
      ]
     },
     "execution_count": 16,
     "metadata": {},
     "output_type": "execute_result"
    }
   ],
   "source": [
    "def taghsim (a,b):\n",
    "    c=(a//b)\n",
    "    return c\n",
    "taghsim(2,23)"
   ]
  },
  {
   "cell_type": "code",
   "execution_count": 15,
   "id": "f48e30cb-3866-4788-9ff2-af87f6c3c692",
   "metadata": {},
   "outputs": [
    {
     "data": {
      "text/plain": [
       "2"
      ]
     },
     "execution_count": 15,
     "metadata": {},
     "output_type": "execute_result"
    }
   ],
   "source": [
    "def taghsim (a,b):\n",
    "    c=(a%b)\n",
    "    return c\n",
    "taghsim(2,19)"
   ]
  },
  {
   "cell_type": "code",
   "execution_count": 17,
   "id": "c400a120-caae-4a5e-8b9d-41a9b52cb777",
   "metadata": {},
   "outputs": [
    {
     "data": {
      "text/plain": [
       "256"
      ]
     },
     "execution_count": 17,
     "metadata": {},
     "output_type": "execute_result"
    }
   ],
   "source": [
    "def zarrb (a,b):\n",
    "    c=(a**b)\n",
    "    return c\n",
    "zarrb(2,8)"
   ]
  },
  {
   "cell_type": "code",
   "execution_count": null,
   "id": "a841f2f5-d012-4aae-8e55-b02114ad9db1",
   "metadata": {},
   "outputs": [],
   "source": []
  }
 ],
 "metadata": {
  "kernelspec": {
   "display_name": "Python 3 (ipykernel)",
   "language": "python",
   "name": "python3"
  },
  "language_info": {
   "codemirror_mode": {
    "name": "ipython",
    "version": 3
   },
   "file_extension": ".py",
   "mimetype": "text/x-python",
   "name": "python",
   "nbconvert_exporter": "python",
   "pygments_lexer": "ipython3",
   "version": "3.12.0"
  }
 },
 "nbformat": 4,
 "nbformat_minor": 5
}
