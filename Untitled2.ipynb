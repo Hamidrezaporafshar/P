{
 "cells": [
  {
   "cell_type": "code",
   "execution_count": 1,
   "id": "5d834a35-c3e6-400b-b687-ff5350e6e9dc",
   "metadata": {},
   "outputs": [
    {
     "name": "stdout",
     "output_type": "stream",
     "text": [
      "HAMIDREZAPORAFSHAR1\n"
     ]
    }
   ],
   "source": [
    "print(\"HAMIDREZAPORAFSHAR1\")"
   ]
  },
  {
   "cell_type": "code",
   "execution_count": null,
   "id": "dc709a07-0a3d-4720-89bb-711de97f7a4b",
   "metadata": {},
   "outputs": [],
   "source": []
  }
 ],
 "metadata": {
  "kernelspec": {
   "display_name": "Python 3 (ipykernel)",
   "language": "python",
   "name": "python3"
  },
  "language_info": {
   "codemirror_mode": {
    "name": "ipython",
    "version": 3
   },
   "file_extension": ".py",
   "mimetype": "text/x-python",
   "name": "python",
   "nbconvert_exporter": "python",
   "pygments_lexer": "ipython3",
   "version": "3.12.0"
  }
 },
 "nbformat": 4,
 "nbformat_minor": 5
}
