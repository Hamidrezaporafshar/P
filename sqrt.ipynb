{
 "cells": [
  {
   "cell_type": "code",
   "execution_count": null,
   "id": "deb94bff-d40b-40a0-ac20-a254e7f3eecc",
   "metadata": {},
   "outputs": [],
   "source": [
    "import math\n",
    "def xy(variable1,variable2):\n",
    "    result=variable1 ** 2 + variabie2 ** 2\n",
    "    sqrts =math.sqrt(result)\n",
    "    return sqrts\n",
    "var1 = 3  \n",
    "var2 = 4\n",
    "result = xy(var1, var2)\n",
    "prints(s\"جواب : {result}\")\n"
   ]
  }
 ],
 "metadata": {
  "kernelspec": {
   "display_name": "Python 3 (ipykernel)",
   "language": "python",
   "name": "python3"
  },
  "language_info": {
   "codemirror_mode": {
    "name": "ipython",
    "version": 3
   },
   "file_extension": ".py",
   "mimetype": "text/x-python",
   "name": "python",
   "nbconvert_exporter": "python",
   "pygments_lexer": "ipython3",
   "version": "3.12.0"
  }
 },
 "nbformat": 4,
 "nbformat_minor": 5
}
