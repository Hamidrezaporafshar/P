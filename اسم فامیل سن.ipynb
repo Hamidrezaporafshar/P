{
 "cells": [
  {
   "cell_type": "code",
   "execution_count": 4,
   "id": "d7fcc1bf-4da9-4d82-85b8-d8b46453a1c5",
   "metadata": {},
   "outputs": [
    {
     "name": "stdout",
     "output_type": "stream",
     "text": [
      "hamidreza\n",
      "porafshar\n",
      "23\n"
     ]
    }
   ],
   "source": [
    "print(\"hamidreza\")\n",
    "print(\"porafshar\")\n",
    "print(\"23\")\n"
   ]
  },
  {
   "cell_type": "code",
   "execution_count": null,
   "id": "581ec1e8-eed0-4787-9afa-85263e31599e",
   "metadata": {},
   "outputs": [],
   "source": []
  }
 ],
 "metadata": {
  "kernelspec": {
   "display_name": "Python 3 (ipykernel)",
   "language": "python",
   "name": "python3"
  },
  "language_info": {
   "codemirror_mode": {
    "name": "ipython",
    "version": 3
   },
   "file_extension": ".py",
   "mimetype": "text/x-python",
   "name": "python",
   "nbconvert_exporter": "python",
   "pygments_lexer": "ipython3",
   "version": "3.12.0"
  }
 },
 "nbformat": 4,
 "nbformat_minor": 5
}
