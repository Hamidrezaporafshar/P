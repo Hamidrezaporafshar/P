{
 "cells": [
  {
   "cell_type": "code",
   "execution_count": null,
   "id": "f2d243d6-4396-493a-869c-5393148726bb",
   "metadata": {},
   "outputs": [],
   "source": [
    "def bakhshpazeri(number1,number2):\n",
    "    if number2 == 0:\n",
    "        return false\n",
    "        elif number1 % number2==0:\n",
    "        return true\n",
    "    else:\n",
    "        return false\n",
    "    num1=20\n",
    "    num2=10\n",
    "    resulte=bakhshpazeri(num1,num2)\n",
    "    print(s\"ایا{num1}در{num2}بخش پذیر است{result}\")"
   ]
  }
 ],
 "metadata": {
  "kernelspec": {
   "display_name": "Python 3 (ipykernel)",
   "language": "python",
   "name": "python3"
  },
  "language_info": {
   "codemirror_mode": {
    "name": "ipython",
    "version": 3
   },
   "file_extension": ".py",
   "mimetype": "text/x-python",
   "name": "python",
   "nbconvert_exporter": "python",
   "pygments_lexer": "ipython3",
   "version": "3.12.0"
  }
 },
 "nbformat": 4,
 "nbformat_minor": 5
}
