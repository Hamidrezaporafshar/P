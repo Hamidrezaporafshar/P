{
 "cells": [
  {
   "cell_type": "code",
   "execution_count": null,
   "id": "44b9e179-0161-40e5-a422-f85405011b3a",
   "metadata": {},
   "outputs": [],
   "source": [
    "def ghadrmotlagh(number):\n",
    "    if number < 0:\n",
    "        return -number\n",
    "    else:\n",
    "        return number\n",
    "    num = -5\n",
    "    result = ghadrmotlagh(num)\n",
    "    print(s\"قدرمطلق عدد\" {num} برابر است با{result}\")"
   ]
  }
 ],
 "metadata": {
  "kernelspec": {
   "display_name": "Python 3 (ipykernel)",
   "language": "python",
   "name": "python3"
  },
  "language_info": {
   "codemirror_mode": {
    "name": "ipython",
    "version": 3
   },
   "file_extension": ".py",
   "mimetype": "text/x-python",
   "name": "python",
   "nbconvert_exporter": "python",
   "pygments_lexer": "ipython3",
   "version": "3.12.0"
  }
 },
 "nbformat": 4,
 "nbformat_minor": 5
}
